{
 "cells": [
  {
   "cell_type": "code",
   "execution_count": 34,
   "id": "387b1dec-22c6-430a-bf22-926fce7792ae",
   "metadata": {},
   "outputs": [],
   "source": [
    "class Product:\n",
    "    def __init__(self):\n",
    "        self.data1 = 10\n",
    "        self._data2_single = 20\n",
    "    def methodA(self):\n",
    "        pass\n",
    "    def __methodB_double(self):\n",
    "        print(\"You found me calling '_Product__methodB_double'\")\n",
    "        pass\n",
    "\n",
    "p = Product()"
   ]
  },
  {
   "cell_type": "code",
   "execution_count": 39,
   "id": "f8e25395-4c78-42db-8ff7-459bad97b085",
   "metadata": {},
   "outputs": [
    {
     "data": {
      "text/plain": [
       "(10, 20)"
      ]
     },
     "execution_count": 39,
     "metadata": {},
     "output_type": "execute_result"
    }
   ],
   "source": [
    "#still accesible, just a convention. Nothing changes\n",
    "p.data1, p._data2_single"
   ]
  },
  {
   "cell_type": "code",
   "execution_count": 41,
   "id": "7309e788-d3b7-4486-8854-869734a9de4e",
   "metadata": {},
   "outputs": [
    {
     "ename": "AttributeError",
     "evalue": "'Product' object has no attribute '__methodB_double'",
     "output_type": "error",
     "traceback": [
      "\u001b[0;31m---------------------------------------------------------------------------\u001b[0m",
      "\u001b[0;31mAttributeError\u001b[0m                            Traceback (most recent call last)",
      "Cell \u001b[0;32mIn[41], line 2\u001b[0m\n\u001b[1;32m      1\u001b[0m \u001b[38;5;66;03m## ups... gone?\u001b[39;00m\n\u001b[0;32m----> 2\u001b[0m \u001b[43mp\u001b[49m\u001b[38;5;241;43m.\u001b[39;49m\u001b[43m__methodB_double\u001b[49m\n",
      "\u001b[0;31mAttributeError\u001b[0m: 'Product' object has no attribute '__methodB_double'"
     ]
    }
   ],
   "source": [
    "## ups... gone?\n",
    "p.__methodB_double"
   ]
  },
  {
   "cell_type": "code",
   "execution_count": 37,
   "id": "c73b4b78-7709-47ee-a49c-bf85c621f49d",
   "metadata": {},
   "outputs": [
    {
     "data": {
      "text/plain": [
       "['_Product__methodB_double', '__class__', '__delattr__', '__dict__', '__dir__']"
      ]
     },
     "execution_count": 37,
     "metadata": {},
     "output_type": "execute_result"
    }
   ],
   "source": [
    "# There you are...'_Product__methodB_double'\n",
    "dir(p)[:5]"
   ]
  },
  {
   "cell_type": "code",
   "execution_count": 38,
   "id": "74cfa33b-c5b8-4aa5-a697-4dea47307d7b",
   "metadata": {},
   "outputs": [
    {
     "name": "stdout",
     "output_type": "stream",
     "text": [
      "You found me calling '_Product__methodB_double'\n"
     ]
    }
   ],
   "source": [
    "p._Product__methodB_double()"
   ]
  },
  {
   "cell_type": "markdown",
   "id": "45962106-fb6b-4813-aef5-d7e6e893d453",
   "metadata": {},
   "source": [
    "'_'  = Convensión para nombrar variables que no deberían de ser accesadas por el usuario (Interface) \n",
    "'__' = Renombra el método para no acceder a él sin entendimiento de causa."
   ]
  },
  {
   "cell_type": "code",
   "execution_count": null,
   "id": "454bf049-b6f2-49bc-bb02-f3a80bca4667",
   "metadata": {},
   "outputs": [],
   "source": []
  }
 ],
 "metadata": {
  "kernelspec": {
   "display_name": "Python 3 (ipykernel)",
   "language": "python",
   "name": "python3"
  },
  "language_info": {
   "codemirror_mode": {
    "name": "ipython",
    "version": 3
   },
   "file_extension": ".py",
   "mimetype": "text/x-python",
   "name": "python",
   "nbconvert_exporter": "python",
   "pygments_lexer": "ipython3",
   "version": "3.10.9"
  }
 },
 "nbformat": 4,
 "nbformat_minor": 5
}
