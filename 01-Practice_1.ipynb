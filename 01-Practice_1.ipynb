{
 "cells": [
  {
   "cell_type": "markdown",
   "id": "36ffdff5-d2ba-4fa0-b629-eddebdc3fc1b",
   "metadata": {},
   "source": [
    "#### Practice Exercise -1\n",
    "Make a class that represents a bank account. Create four methods named set_details, display, withdraw and deposit.\n",
    "\n",
    "In the *set_details* method, create two instance variables : *name* and *balance*. \n",
    "The default value for balance should be *zero*. \n",
    "In the *display* method, display the values of these two instance *variables*.\n",
    "\n",
    "Both the methods *withdraw* and *deposit* have *amount* as parameter. \n",
    "- Inside *withdraw*, subtract the amount from balance and \n",
    "- inside deposit, add the amount to the balance.\n",
    "\n",
    "Create two instances of this class and call the methods on those instances."
   ]
  },
  {
   "cell_type": "code",
   "execution_count": 96,
   "id": "722e552a-f6af-401a-9798-1f6f125d607a",
   "metadata": {},
   "outputs": [],
   "source": [
    "# My_solution\n",
    "\n",
    "class bank_account():\n",
    "    def __init__(self):\n",
    "        self.balance = 0\n",
    "        self.name = ''\n",
    "        self.set_details(self.name, self.balance)\n",
    "        \n",
    "    def set_details(self, name, balance):\n",
    "        self.name = name\n",
    "        self.balance = balance\n",
    "        \n",
    "    def display(self):\n",
    "        #self.set_details(self.name, self.balance)\n",
    "        print(f\"{self.name}, {self.balance}\")\n",
    "        \n",
    "    def withdraw(self,amount):\n",
    "        self.amount = amount\n",
    "        self.balance -= self.amount\n",
    "        \n",
    "    def deposit(self,amount):\n",
    "        self.amount = amount\n",
    "        self.balance += self.amount"
   ]
  },
  {
   "cell_type": "code",
   "execution_count": 97,
   "id": "f17fcb8a-4c2e-4ba5-8500-92b13ed9e866",
   "metadata": {},
   "outputs": [
    {
     "name": "stdout",
     "output_type": "stream",
     "text": [
      ", 0\n"
     ]
    }
   ],
   "source": [
    "account1 = bank_account()\n",
    "account1.display()"
   ]
  },
  {
   "cell_type": "code",
   "execution_count": 98,
   "id": "27b34329-109b-4cb2-ba6f-be96383de09d",
   "metadata": {},
   "outputs": [],
   "source": [
    "account1.set_details(name='bob',balance=500)"
   ]
  },
  {
   "cell_type": "code",
   "execution_count": 99,
   "id": "a3ca49a9-b20a-4e85-ba3f-5dff55a54448",
   "metadata": {},
   "outputs": [
    {
     "name": "stdout",
     "output_type": "stream",
     "text": [
      "bob, 533\n"
     ]
    }
   ],
   "source": [
    "account1.deposit(amount=33)\n",
    "account1.display()"
   ]
  },
  {
   "cell_type": "code",
   "execution_count": 106,
   "id": "7b1b6d2a-b893-43cc-9311-cdb44bb69629",
   "metadata": {},
   "outputs": [],
   "source": [
    "account2 = bank_account()\n",
    "account2.set_details(name='bob', balance=1000)"
   ]
  },
  {
   "cell_type": "code",
   "execution_count": 107,
   "id": "4b680075-ca52-42bf-8401-7ae660254b34",
   "metadata": {},
   "outputs": [
    {
     "name": "stdout",
     "output_type": "stream",
     "text": [
      "bob, 999\n"
     ]
    }
   ],
   "source": [
    "account2.withdraw(1)\n",
    "account2.display()"
   ]
  },
  {
   "cell_type": "code",
   "execution_count": 1,
   "id": "37520ad9-1dd4-4166-8481-c43f7dc8adb3",
   "metadata": {},
   "outputs": [
    {
     "name": "stdout",
     "output_type": "stream",
     "text": [
      "Mike 200\n",
      "Tom 0\n",
      "Mike 100\n",
      "Tom 500\n"
     ]
    }
   ],
   "source": [
    "### Solution\n",
    "\n",
    "class BankAccount:\n",
    "    def set_details(self, name, balance=0):\n",
    "        self.name = name\n",
    "        self.balance = balance\n",
    " \n",
    "    def display(self):\n",
    "         print(self.name, self.balance)\n",
    " \n",
    "    def withdraw(self, amount):\n",
    "        self.balance -= amount\n",
    " \n",
    "    def deposit(self, amount):\n",
    "        self.balance += amount\n",
    "    \n",
    "a1 = BankAccount()\n",
    "a1.set_details('Mike', 200)\n",
    " \n",
    "a2 = BankAccount()\n",
    "a2.set_details('Tom')\n",
    " \n",
    "a1.display()\n",
    "a2.display()\n",
    " \n",
    "a1.withdraw(100)\n",
    "a2.deposit(500)\n",
    " \n",
    "a1.display()\n",
    "a2.display()\n"
   ]
  },
  {
   "cell_type": "code",
   "execution_count": 6,
   "id": "8133afec-77ae-46c8-a2a8-72b2d2d482ac",
   "metadata": {},
   "outputs": [],
   "source": [
    "# After learning __init__\n",
    "\n",
    "class bank_account2():\n",
    "    def __init__(self,name, balance=0):\n",
    "        self.balance = balance\n",
    "        self.name = name\n",
    "        \n",
    "\n",
    "# self.set_details becomes innecesarry\n",
    "\n"
   ]
  },
  {
   "cell_type": "code",
   "execution_count": 8,
   "id": "440220a4-5872-4f84-82dd-e6885299988e",
   "metadata": {},
   "outputs": [
    {
     "data": {
      "text/plain": [
       "'John'"
      ]
     },
     "execution_count": 8,
     "metadata": {},
     "output_type": "execute_result"
    }
   ],
   "source": [
    "a3 = bank_account2('John', 100)\n",
    "a3.name"
   ]
  }
 ],
 "metadata": {
  "kernelspec": {
   "display_name": "Python 3 (ipykernel)",
   "language": "python",
   "name": "python3"
  },
  "language_info": {
   "codemirror_mode": {
    "name": "ipython",
    "version": 3
   },
   "file_extension": ".py",
   "mimetype": "text/x-python",
   "name": "python",
   "nbconvert_exporter": "python",
   "pygments_lexer": "ipython3",
   "version": "3.10.9"
  }
 },
 "nbformat": 4,
 "nbformat_minor": 5
}
