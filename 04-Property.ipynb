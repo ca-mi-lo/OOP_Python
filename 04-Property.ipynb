{
 "cells": [
  {
   "cell_type": "markdown",
   "id": "130d07e9-ac2a-4641-8b24-5789d5657a14",
   "metadata": {},
   "source": [
    "### 04-Property"
   ]
  },
  {
   "cell_type": "code",
   "execution_count": 5,
   "id": "f8e9506c-d0e0-4d17-827a-af0414a02fa1",
   "metadata": {},
   "outputs": [],
   "source": [
    "class Product:\n",
    "    def __init__(self,x,y):\n",
    "        self._x = x\n",
    "        self._y = y\n",
    "    \n",
    "    def display(self):\n",
    "        print(self._x, self._y)\n",
    "\n",
    "    def not_decor_value(self):\n",
    "        return self._x\n",
    "    \n",
    "    @property # Now you can read '_x' with Product.value\n",
    "    def value(self):\n",
    "        return self._x\n",
    "    \n",
    "    @value.setter # Now you can override '_x'\n",
    "    def value(self,val):\n",
    "        self._x = val\n",
    "\n",
    "    @property\n",
    "    def y(self):\n",
    "        return self._y\n",
    "\n",
    "    @y.setter\n",
    "    def y(self, val):\n",
    "        self._y = val\n",
    "\n",
    "p = Product(12,24)"
   ]
  },
  {
   "cell_type": "code",
   "execution_count": 6,
   "id": "68502400-2390-4fb4-99f5-78d899f8fbdf",
   "metadata": {},
   "outputs": [
    {
     "data": {
      "text/plain": [
       "['__weakref__', 'display', 'not_decor_value', 'value', 'y']"
      ]
     },
     "execution_count": 6,
     "metadata": {},
     "output_type": "execute_result"
    }
   ],
   "source": [
    "dir(Product,)[-5:]"
   ]
  },
  {
   "cell_type": "code",
   "execution_count": 8,
   "id": "11107626-b856-4597-995d-77f40b5819bc",
   "metadata": {},
   "outputs": [
    {
     "data": {
      "text/plain": [
       "(13, 12.5)"
      ]
     },
     "execution_count": 8,
     "metadata": {},
     "output_type": "execute_result"
    }
   ],
   "source": [
    "p = Product(12, 24)\n",
    "p.value +1 , p.not_decor_value() + 0.5 "
   ]
  },
  {
   "cell_type": "code",
   "execution_count": 9,
   "id": "bfb9adb7-967e-4236-9a35-7e86c8eaf4f1",
   "metadata": {},
   "outputs": [],
   "source": [
    "p.value = 10 # Can´t be assinged, just called  ,,, unless @value.setter is there"
   ]
  },
  {
   "cell_type": "code",
   "execution_count": 10,
   "id": "d902ea42-5222-4f00-89aa-056f94734754",
   "metadata": {},
   "outputs": [
    {
     "name": "stdout",
     "output_type": "stream",
     "text": [
      "10\n",
      "24\n",
      "12\n"
     ]
    }
   ],
   "source": [
    "print(p.value),\n",
    "print(p.y)\n",
    "p.y = 12 # thank you setter!\n",
    "print(p.y)"
   ]
  },
  {
   "cell_type": "markdown",
   "id": "28d13c28-f50c-4883-a29a-0488cb62e548",
   "metadata": {},
   "source": [
    "#### Access and Asignation variables vía method"
   ]
  },
  {
   "cell_type": "code",
   "execution_count": 1,
   "id": "a7c5f837-8856-4f93-b75c-ccdab24b9e65",
   "metadata": {},
   "outputs": [
    {
     "name": "stdout",
     "output_type": "stream",
     "text": [
      "Camilo 42\n"
     ]
    }
   ],
   "source": [
    "class Person:\n",
    "    def __init__(self, name, age):\n",
    "        self.name = name\n",
    "       \n",
    "        if 20 < age <80:\n",
    "            self._age = age\n",
    "        else:\n",
    "            raise ValueError('Age must be between 20 and 80')\n",
    "\n",
    "    def display(self):\n",
    "        print(self.name, self._age)\n",
    "\n",
    "    def set_age(self, new_age):\n",
    "        if 20 < new_age <80:\n",
    "            self._age = new_age\n",
    "        else:\n",
    "            raise ValueError('Age must be between 20 and 80')\n",
    "    def get_age(self):\n",
    "        return self._age\n",
    "\n",
    "if __name__ == '__main__':\n",
    "    p = Person('Camilo',42)\n",
    "    p.display()\n",
    "        "
   ]
  },
  {
   "cell_type": "code",
   "execution_count": 4,
   "id": "bb63127e",
   "metadata": {},
   "outputs": [
    {
     "ename": "ValueError",
     "evalue": "Age must be between 20 and 80",
     "output_type": "error",
     "traceback": [
      "\u001b[0;31m---------------------------------------------------------------------------\u001b[0m",
      "\u001b[0;31mValueError\u001b[0m                                Traceback (most recent call last)",
      "Cell \u001b[0;32mIn[4], line 1\u001b[0m\n\u001b[0;32m----> 1\u001b[0m \u001b[43mp\u001b[49m\u001b[38;5;241;43m.\u001b[39;49m\u001b[43mset_age\u001b[49m\u001b[43m(\u001b[49m\u001b[38;5;241;43m100\u001b[39;49m\u001b[43m)\u001b[49m\n",
      "Cell \u001b[0;32mIn[1], line 23\u001b[0m, in \u001b[0;36mPerson.set_age\u001b[0;34m(self, new_age)\u001b[0m\n\u001b[1;32m     21\u001b[0m     \u001b[38;5;28mself\u001b[39m\u001b[38;5;241m.\u001b[39m_age \u001b[38;5;241m=\u001b[39m new_age\n\u001b[1;32m     22\u001b[0m \u001b[38;5;28;01melse\u001b[39;00m:\n\u001b[0;32m---> 23\u001b[0m     \u001b[38;5;28;01mraise\u001b[39;00m \u001b[38;5;167;01mValueError\u001b[39;00m(\u001b[38;5;124m'\u001b[39m\u001b[38;5;124mAge must be between 20 and 80\u001b[39m\u001b[38;5;124m'\u001b[39m)\n",
      "\u001b[0;31mValueError\u001b[0m: Age must be between 20 and 80"
     ]
    }
   ],
   "source": [
    "p.set_age(100)"
   ]
  },
  {
   "cell_type": "code",
   "execution_count": 6,
   "id": "054e4116",
   "metadata": {},
   "outputs": [
    {
     "name": "stdout",
     "output_type": "stream",
     "text": [
      "Camilo 25\n"
     ]
    }
   ],
   "source": [
    "p.set_age(25)\n",
    "p.display()\n"
   ]
  },
  {
   "cell_type": "code",
   "execution_count": 9,
   "id": "76d20aa7",
   "metadata": {},
   "outputs": [
    {
     "ename": "ValueError",
     "evalue": "Age must be between 20 and 80",
     "output_type": "error",
     "traceback": [
      "\u001b[0;31m---------------------------------------------------------------------------\u001b[0m",
      "\u001b[0;31mValueError\u001b[0m                                Traceback (most recent call last)",
      "Cell \u001b[0;32mIn[9], line 3\u001b[0m\n\u001b[1;32m      1\u001b[0m \u001b[38;5;66;03m# But if we initialize the method, no validation is done ...\u001b[39;00m\n\u001b[1;32m      2\u001b[0m \u001b[38;5;66;03m# ... After adding the validation in __init__ the validation works\u001b[39;00m\n\u001b[0;32m----> 3\u001b[0m p1 \u001b[38;5;241m=\u001b[39m \u001b[43mPerson\u001b[49m\u001b[43m(\u001b[49m\u001b[38;5;124;43m'\u001b[39;49m\u001b[38;5;124;43mMumRA\u001b[39;49m\u001b[38;5;124;43m'\u001b[39;49m\u001b[43m,\u001b[49m\u001b[43m \u001b[49m\u001b[38;5;241;43m200\u001b[39;49m\u001b[43m)\u001b[49m\n",
      "Cell \u001b[0;32mIn[1], line 14\u001b[0m, in \u001b[0;36mPerson.__init__\u001b[0;34m(self, name, age)\u001b[0m\n\u001b[1;32m     12\u001b[0m     \u001b[38;5;28mself\u001b[39m\u001b[38;5;241m.\u001b[39m_age \u001b[38;5;241m=\u001b[39m age\n\u001b[1;32m     13\u001b[0m \u001b[38;5;28;01melse\u001b[39;00m:\n\u001b[0;32m---> 14\u001b[0m     \u001b[38;5;28;01mraise\u001b[39;00m \u001b[38;5;167;01mValueError\u001b[39;00m(\u001b[38;5;124m'\u001b[39m\u001b[38;5;124mAge must be between 20 and 80\u001b[39m\u001b[38;5;124m'\u001b[39m)\n",
      "\u001b[0;31mValueError\u001b[0m: Age must be between 20 and 80"
     ]
    }
   ],
   "source": [
    "# But if we initialize the method, no validation is done ...\n",
    "# ... After adding the validation in __init__ the validation works\n",
    "p1 = Person('MumRA', 200)"
   ]
  },
  {
   "cell_type": "markdown",
   "id": "6da5c544-6ae5-49eb-9bb1-d4aed30f6a15",
   "metadata": {},
   "source": [
    "### The Pythonic way...\n",
    "Why we should care about a better way of writng this code?\n",
    "- We are repiting the same code in many parts of the class\n",
    "- Its intrusive and breaks exisitng code that has to be updated !!!"
   ]
  },
  {
   "cell_type": "code",
   "execution_count": null,
   "id": "7d8619a4-e62e-466d-8114-ad1d01144c69",
   "metadata": {},
   "outputs": [],
   "source": [
    "class Person:\n",
    "    def __init__(self, name, age):\n",
    "        self.name = name\n",
    "        self.age = age"
   ]
  }
 ],
 "metadata": {
  "kernelspec": {
   "display_name": "Python 3 (ipykernel)",
   "language": "python",
   "name": "python3"
  },
  "language_info": {
   "codemirror_mode": {
    "name": "ipython",
    "version": 3
   },
   "file_extension": ".py",
   "mimetype": "text/x-python",
   "name": "python",
   "nbconvert_exporter": "python",
   "pygments_lexer": "ipython3",
   "version": "3.10.12"
  }
 },
 "nbformat": 4,
 "nbformat_minor": 5
}
