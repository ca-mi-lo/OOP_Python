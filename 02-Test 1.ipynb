{
 "cells": [
  {
   "cell_type": "markdown",
   "id": "ed96c773-b953-47e3-b199-d3a0035bd0e3",
   "metadata": {},
   "source": [
    "#### Pregunta 9:\n",
    "What will be the output ?"
   ]
  },
  {
   "cell_type": "markdown",
   "id": "164d2bb8-375b-46b5-9e88-1633c109c19a",
   "metadata": {},
   "source": [
    "#### Before"
   ]
  },
  {
   "cell_type": "code",
   "execution_count": 1,
   "id": "3ebcfe70-57a4-49b5-a347-c3aefa916486",
   "metadata": {},
   "outputs": [
    {
     "ename": "AttributeError",
     "evalue": "'Test' object has no attribute 'x'",
     "output_type": "error",
     "traceback": [
      "\u001b[0;31m---------------------------------------------------------------------------\u001b[0m",
      "\u001b[0;31mAttributeError\u001b[0m                            Traceback (most recent call last)",
      "Cell \u001b[0;32mIn[1], line 8\u001b[0m\n\u001b[1;32m      6\u001b[0m             \u001b[38;5;28mprint\u001b[39m(\u001b[38;5;28mself\u001b[39m\u001b[38;5;241m.\u001b[39mx)\n\u001b[1;32m      7\u001b[0m t \u001b[38;5;241m=\u001b[39m Test()\n\u001b[0;32m----> 8\u001b[0m \u001b[43mt\u001b[49m\u001b[38;5;241;43m.\u001b[39;49m\u001b[43mdisplay\u001b[49m\u001b[43m(\u001b[49m\u001b[43m)\u001b[49m\n",
      "Cell \u001b[0;32mIn[1], line 6\u001b[0m, in \u001b[0;36mTest.display\u001b[0;34m(self)\u001b[0m\n\u001b[1;32m      5\u001b[0m \u001b[38;5;28;01mdef\u001b[39;00m \u001b[38;5;21mdisplay\u001b[39m(\u001b[38;5;28mself\u001b[39m):\n\u001b[0;32m----> 6\u001b[0m      \u001b[38;5;28mprint\u001b[39m(\u001b[38;5;28;43mself\u001b[39;49m\u001b[38;5;241;43m.\u001b[39;49m\u001b[43mx\u001b[49m)\n",
      "\u001b[0;31mAttributeError\u001b[0m: 'Test' object has no attribute 'x'"
     ]
    }
   ],
   "source": [
    "class Test:\n",
    "       def method1(self):\n",
    "             self.x = 10\n",
    "       \n",
    "       def display(self):\n",
    "            print(self.x)\n",
    "t = Test()\n",
    "t.display()"
   ]
  },
  {
   "cell_type": "markdown",
   "id": "19da53d8-6b0c-47ff-8b0c-98b065db474f",
   "metadata": {},
   "source": [
    "### After"
   ]
  },
  {
   "cell_type": "code",
   "execution_count": 2,
   "id": "ae145ff7-81fb-46a1-a0ad-c642e51ee8ca",
   "metadata": {},
   "outputs": [
    {
     "name": "stdout",
     "output_type": "stream",
     "text": [
      "10\n"
     ]
    }
   ],
   "source": [
    "class Test:\n",
    "       def method1(self):\n",
    "           self.x = 10\n",
    "       \n",
    "       def display(self):\n",
    "           self.method1() # hay que invocar al método para generar la instancia y así crear el parámetro x, y poder llamarlo\n",
    "           print(self.x)\n",
    "t = Test()\n",
    "t.display()"
   ]
  },
  {
   "cell_type": "code",
   "execution_count": 3,
   "id": "48445d1b-554e-4955-aad1-5bda544f30c3",
   "metadata": {},
   "outputs": [
    {
     "ename": "UnboundLocalError",
     "evalue": "local variable 'x' referenced before assignment",
     "output_type": "error",
     "traceback": [
      "\u001b[0;31m---------------------------------------------------------------------------\u001b[0m",
      "\u001b[0;31mUnboundLocalError\u001b[0m                         Traceback (most recent call last)",
      "Cell \u001b[0;32mIn[3], line 16\u001b[0m\n\u001b[1;32m     14\u001b[0m t \u001b[38;5;241m=\u001b[39m Test()\n\u001b[1;32m     15\u001b[0m t\u001b[38;5;241m.\u001b[39mmethod1(\u001b[38;5;241m5\u001b[39m)\n\u001b[0;32m---> 16\u001b[0m \u001b[43mt\u001b[49m\u001b[38;5;241;43m.\u001b[39;49m\u001b[43mmethod2\u001b[49m\u001b[43m(\u001b[49m\u001b[43m)\u001b[49m\n\u001b[1;32m     17\u001b[0m t\u001b[38;5;241m.\u001b[39mdisplay()\n",
      "Cell \u001b[0;32mIn[3], line 9\u001b[0m, in \u001b[0;36mTest.method2\u001b[0;34m(self)\u001b[0m\n\u001b[1;32m      8\u001b[0m \u001b[38;5;28;01mdef\u001b[39;00m \u001b[38;5;21mmethod2\u001b[39m(\u001b[38;5;28mself\u001b[39m):\n\u001b[0;32m----> 9\u001b[0m       x \u001b[38;5;241m+\u001b[39m\u001b[38;5;241m=\u001b[39m \u001b[38;5;241m10\u001b[39m\n",
      "\u001b[0;31mUnboundLocalError\u001b[0m: local variable 'x' referenced before assignment"
     ]
    }
   ],
   "source": [
    "#Pregunta 10:\n",
    "#What will be the output -\n",
    "\n",
    "class Test:\n",
    "       def method1(self,x):\n",
    "             self.x = x\n",
    "       \n",
    "       def method2(self):\n",
    "             x += 10\n",
    "       \n",
    "       def display(self):\n",
    "            print(self.x)\n",
    "\n",
    "t = Test()\n",
    "t.method1(5)\n",
    "t.method2()\n",
    "t.display()"
   ]
  },
  {
   "cell_type": "markdown",
   "id": "df9de219-8798-494b-86d3-36e8036b2e4d",
   "metadata": {},
   "source": [
    "#### After..."
   ]
  },
  {
   "cell_type": "code",
   "execution_count": 4,
   "id": "fab5da43-b3a0-44d7-8999-995de53a1fde",
   "metadata": {},
   "outputs": [
    {
     "name": "stdout",
     "output_type": "stream",
     "text": [
      "15\n"
     ]
    }
   ],
   "source": [
    "class Test:\n",
    "       def method1(self,x):\n",
    "             self.x = x\n",
    "       \n",
    "       def method2(self):\n",
    "           self.method1(5) # Again, toca instanciar primero\n",
    "           self.x += 10  # Usar el prefijo \"self\" para poder acceder a una instancia de la clase y obtener así el atributo x\n",
    "       \n",
    "       def display(self):\n",
    "            print(self.x)\n",
    "\n",
    "t = Test()\n",
    "t.method1(5)\n",
    "t.method2()\n",
    "t.display()"
   ]
  },
  {
   "cell_type": "code",
   "execution_count": null,
   "id": "374c46a6-bcdb-4e06-aa10-9a2fb59c1e43",
   "metadata": {},
   "outputs": [],
   "source": []
  }
 ],
 "metadata": {
  "kernelspec": {
   "display_name": "Python 3 (ipykernel)",
   "language": "python",
   "name": "python3"
  },
  "language_info": {
   "codemirror_mode": {
    "name": "ipython",
    "version": 3
   },
   "file_extension": ".py",
   "mimetype": "text/x-python",
   "name": "python",
   "nbconvert_exporter": "python",
   "pygments_lexer": "ipython3",
   "version": "3.10.9"
  }
 },
 "nbformat": 4,
 "nbformat_minor": 5
}
