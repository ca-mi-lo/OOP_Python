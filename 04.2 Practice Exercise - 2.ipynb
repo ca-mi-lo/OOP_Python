{
 "cells": [
  {
   "cell_type": "markdown",
   "metadata": {},
   "source": [
    "## Practice Exercise - 2\n",
    "[https://www.udemy.com/course/object-oriented-python-programming/learn/lecture/18241932#learning-tools]\n",
    "\n",
    "#### 1. \n",
    "In the BankAccount class that you had created in the previous exercise, delete the set_details() method and create an \\_\\_init\\_\\_ method."
   ]
  },
  {
   "cell_type": "code",
   "execution_count": 1,
   "metadata": {},
   "outputs": [],
   "source": [
    "# 1\n",
    "class BankAccount:\n",
    "    def __init__(self, name, balance=0):\n",
    "        self.name = name\n",
    "        self.balance = balance\n",
    " \n",
    "    def display(self):\n",
    "         print(self.name, self.balance)\n",
    " \n",
    "    def withdraw(self, amount):\n",
    "        self.balance -= amount\n",
    " \n",
    "    def deposit(self, amount):\n",
    "        self.balance += amount"
   ]
  },
  {
   "cell_type": "markdown",
   "metadata": {},
   "source": [
    "#### 2. \n",
    "Create a class named Book with an \\_\\_init\\_\\_ method. Inside the \\_\\_init\\_\\_ method, create the instance variables isbn, title, author, publisher, pages, price, copies.\n",
    "\n",
    "Create these four instance objects from this class.\n",
    "```Python\n",
    "    book1 = Book('957-4-36-547417-1', 'Learn Physics','Stephen', 'CBC', 350, 200,10)  \n",
    "    book2 = Book('652-6-86-748413-3', 'Learn Chemistry','Jack', 'CBC', 400, 220,20)  \n",
    "    book3 = Book('957-7-39-347216-2', 'Learn Maths','John', 'XYZ', 500, 300,5)  \n",
    "    book4 = Book('957-7-39-347216-2', 'Learn Biology','Jack', 'XYZ', 400, 200,6)  \n",
    "```\n",
    "Write a method display that prints the isbn, title, price and number of copies of the book."
   ]
  },
  {
   "cell_type": "code",
   "execution_count": 2,
   "metadata": {},
   "outputs": [
    {
     "name": "stdout",
     "output_type": "stream",
     "text": [
      "('957-4-36-547417-1',) Learn Physics 200 10\n"
     ]
    }
   ],
   "source": [
    "# 2\n",
    "class Book():\n",
    "    def __init__(self, isbn, title, author, publisher, pages, price, copies):\n",
    "         self.isbn = isbn, \n",
    "         self.title = title\n",
    "         self.author = author\n",
    "         self.publisher = publisher\n",
    "         self.pages = pages\n",
    "         self.price = price\n",
    "         self.copies = copies\n",
    "    def display(self):\n",
    "         print(self.isbn, self.title, self.price, self.copies)\n",
    "         \n",
    "\n",
    "book1 = Book('957-4-36-547417-1', 'Learn Physics','Stephen', 'CBC', 350, 200,10)  \n",
    "book2 = Book('652-6-86-748413-3', 'Learn Chemistry','Jack', 'CBC', 400, 220,20)  \n",
    "book3 = Book('957-7-39-347216-2', 'Learn Maths','John', 'XYZ', 500, 300,5)  \n",
    "book4 = Book('957-7-39-347216-2', 'Learn Biology','Jack', 'XYZ', 400, 200,6)         \n",
    "\n",
    "book1.display()"
   ]
  },
  {
   "cell_type": "markdown",
   "metadata": {},
   "source": [
    "### 3. \n",
    "- For the Book class that you have created, write a method named `in_stock` that returns `True` if number of copies is more than zero, otherwise it returns `False`.\n",
    "- Create another method named sell that decreases the number of copies by 1 if the book is in stock, otherwise it prints the message that the book is out of stock."
   ]
  },
  {
   "cell_type": "code",
   "execution_count": 3,
   "metadata": {},
   "outputs": [],
   "source": [
    "class Book():\n",
    "     def __init__(self, isbn, title, author, publisher, pages, price, copies):\n",
    "         self.isbn = isbn, \n",
    "         self.title = title\n",
    "         self.author = author\n",
    "         self.publisher = publisher\n",
    "         self.pages = pages\n",
    "         self.price = price\n",
    "         self.copies = copies\n",
    "         \n",
    "     def in_stock(self):\n",
    "         return True if self.copies>0 else False\n",
    "    \n",
    "     def sell(self):\n",
    "         if self.in_stock():\n",
    "             self.copies -= 1\n",
    "         else: print(\"Out of stock\")\n",
    "     \n",
    "     def display(self):\n",
    "         print(self.isbn, self.title, self.price, self.copies)\n",
    "\n",
    "         "
   ]
  },
  {
   "cell_type": "markdown",
   "metadata": {},
   "source": [
    "### 4. \n",
    " - Create a list named books that contains the 4 Book instance objects that you have created in question 2. \n",
    "- Iterate over this list using a for loop and call display() for each object in the list.\n",
    "- Write a list comprehension to create another list that contains title of books written by Jack."
   ]
  },
  {
   "cell_type": "code",
   "execution_count": 7,
   "metadata": {},
   "outputs": [
    {
     "name": "stdout",
     "output_type": "stream",
     "text": [
      "('957-4-36-547417-1',) Learn Physics 200 10\n",
      "('652-6-86-748413-3',) Learn Chemistry 220 20\n",
      "('957-7-39-347216-2',) Learn Maths 300 5\n",
      "('957-7-39-347216-2',) Learn Biology 200 6\n"
     ]
    }
   ],
   "source": [
    "books = [book1, book2, book3, book4]\n",
    "for book in books:\n",
    "    book.display()"
   ]
  },
  {
   "cell_type": "code",
   "execution_count": 8,
   "metadata": {},
   "outputs": [
    {
     "data": {
      "text/plain": [
       "['Learn Chemistry', 'Learn Biology']"
      ]
     },
     "execution_count": 8,
     "metadata": {},
     "output_type": "execute_result"
    }
   ],
   "source": [
    "jack_books = []\n",
    "[jack_books.append(book.title) for book in books if book.author =='Jack']\n",
    "jack_books"
   ]
  },
  {
   "cell_type": "markdown",
   "metadata": {},
   "source": [
    "### 5.\n",
    "In the Book class, create a property named price such that the price of a book cannot be less than 50 or more than 1000."
   ]
  },
  {
   "cell_type": "code",
   "execution_count": 9,
   "metadata": {},
   "outputs": [],
   "source": [
    "class Book():\n",
    "    def __init__(self, isbn, title, author, publisher, pages, price, copies):\n",
    "         self.isbn = isbn, \n",
    "         self.title = title\n",
    "         self.author = author\n",
    "         self.publisher = publisher\n",
    "         self.pages = pages\n",
    "         self.price = price\n",
    "         self.copies = copies\n",
    "         \n",
    "    def in_stock(self):\n",
    "         return True if self.copies>0 else False\n",
    "    \n",
    "    def sell(self):\n",
    "         if self.in_stock():\n",
    "             self.copies -= 1\n",
    "         else: print(\"Out of stock\")\n",
    "     \n",
    "    def display(self):\n",
    "         print(self.isbn, self.title, self.price, self.copies)\n",
    "     \n",
    "    @property\n",
    "    def price(self):\n",
    "        return self.price\n",
    "    \n",
    "    @price.setter\n",
    "    def price(self,new_price):\n",
    "        if 50 < new_price <1000:\n",
    "            self.price = new_price\n",
    "        else:\n",
    "            raise ValueError('Price must be between 50 and 1000')"
   ]
  },
  {
   "cell_type": "markdown",
   "metadata": {},
   "source": [
    "#### 6. \n",
    "Make a class Fraction that contains two instance variables, `nr` and `dr` (nr stands for numerator and dr for denominator). Define an \\_\\_init\\_\\_ method that provides values for these instance variables. Make the denominator optional by providing a default argument of 1.\n",
    "\n",
    "In the \\_\\_init\\_\\_ method, make the denominator positive if it is negative. For example  -2/-3 should be changed to 2/3 and 2/-3 to -2/3.\n",
    "\n",
    "Write a method named show that prints numerator, then '/' and then the denominator."
   ]
  },
  {
   "cell_type": "code",
   "execution_count": 10,
   "metadata": {},
   "outputs": [],
   "source": [
    "class Fraction:\n",
    "    def __init__(self, nr, dr=1):\n",
    "        self.nr = nr\n",
    "        self.dr = dr\n",
    "        if self.dr<0:\n",
    "            self.nr *= -1\n",
    "            self.dr *= -1\n",
    "    def show(self):\n",
    "        print(f'{self.nr} / {self.dr}')"
   ]
  },
  {
   "cell_type": "code",
   "execution_count": 11,
   "metadata": {},
   "outputs": [
    {
     "name": "stdout",
     "output_type": "stream",
     "text": [
      "-2 / 100\n"
     ]
    }
   ],
   "source": [
    "fr1 = Fraction(2,-100)\n",
    "fr1.show()"
   ]
  },
  {
   "cell_type": "markdown",
   "metadata": {},
   "source": [
    "7. Define a method named multiply that multiples two Fraction instance objects. For multiplying two fractions, you have to multiply the numerator with numerator and denominator with the denominator.\n",
    "\n",
    "Inside the method, create a new instance object that is the product of the two fractions and return it. Write your method in such a way that it supports multiplication of a Fraction by an integer also.\n",
    "\n",
    "Similarly define a method named add to add two Fraction instance objects. Sum of two fractions n1/d1 and n2/d2 is (n1*d2 + n2*d1) / (d1*d2). This method should also support addition of a Fraction by an integer.\n",
    "\n",
    "Test your fraction class with this code.\n",
    "```Python\n",
    "    f1 = Fraction(2,3)\n",
    "    f1.show()\n",
    "    f2 = Fraction(3,4)\n",
    "    f2.show()\n",
    "    f3 = f1.multiply(f2)\n",
    "    f3.show()\n",
    "    f3 = f1.add(f2)\n",
    "    f3.show()\n",
    "    f3 = f1.add(5) \n",
    "    f3.show()\n",
    "    f3 = f1.multiply(5) \n",
    "    f3.show()\n",
    "```\n",
    "The output that you should get is given below.\n",
    "```Python\n",
    "2/3\n",
    "\n",
    "3/4\n",
    "\n",
    "6/12\n",
    "\n",
    "17/12\n",
    "\n",
    "17/3\n",
    "\n",
    "10/3\n",
    "```\n"
   ]
  },
  {
   "cell_type": "code",
   "execution_count": 19,
   "metadata": {},
   "outputs": [],
   "source": [
    "class Fraction:\n",
    "    def __init__(self, nr, dr=1):\n",
    "        self.nr = nr\n",
    "        self.dr = dr\n",
    "        if self.dr<0:\n",
    "            self.nr *= -1\n",
    "            self.dr *= -1\n",
    "    def show(self):\n",
    "        print(f'{self.nr} / {self.dr}')\n",
    "# ------------------------------------------------------------------------------    \n",
    "    def multiply(self,other):\n",
    "        if isinstance(other,int):\n",
    "            other = Fraction(other)\n",
    "        return Fraction(self.nr * other.nr, other.dr*self.dr)\n",
    "        \n",
    "    def add(self,other):\n",
    "        if isinstance(other,int):\n",
    "            other = Fraction(other)\n",
    "        return Fraction((self.nr*other.dr + self.dr*other.nr), other.dr*self.dr)\n"
   ]
  },
  {
   "cell_type": "code",
   "execution_count": 20,
   "metadata": {},
   "outputs": [
    {
     "name": "stdout",
     "output_type": "stream",
     "text": [
      "2 / 3\n",
      "3 / 4\n",
      "6 / 12\n",
      "17 / 12\n",
      "17 / 3\n",
      "10 / 3\n"
     ]
    }
   ],
   "source": [
    "f1 = Fraction(2,3)\n",
    "f1.show()\n",
    "f2 = Fraction(3,4)\n",
    "f2.show()\n",
    "f3 = f1.multiply(f2)\n",
    "f3.show()\n",
    "f3 = f1.add(f2)\n",
    "f3.show()\n",
    "f3 = f1.add(5) \n",
    "f3.show()\n",
    "f3 = f1.multiply(5) \n",
    "f3.show()\n"
   ]
  },
  {
   "cell_type": "markdown",
   "metadata": {},
   "source": [
    "8. For the following class Product, create a read only property named selling_price that is calculated by deducting discount from the marked_price. The instance variable discount represents discount in percent.   \n",
    "\n",
    "```Python\n",
    "class Product():\n",
    "    def __init__(self, id, marked_price, discount):\n",
    "        self.id = id\n",
    "        self.marked_price = marked_price\n",
    "        self.discount = discount\n",
    "    \n",
    "    def display(self):\n",
    "        print(self.id,  self.marked_price,  self.discount)\n",
    "    \n",
    "p1 = Product('X879', 400, 6)\n",
    "p2 = Product('A234', 100, 5)\n",
    "p3 = Product('B987', 990, 4)\n",
    "p4 = Product('H456', 800, 6)\n",
    "```"
   ]
  },
  {
   "cell_type": "code",
   "execution_count": 23,
   "metadata": {},
   "outputs": [
    {
     "name": "stdout",
     "output_type": "stream",
     "text": [
      "X879 399.94\n"
     ]
    }
   ],
   "source": [
    "class Product():\n",
    "    def __init__(self, id, marked_price, discount):\n",
    "        self.id = id\n",
    "        self.marked_price = marked_price\n",
    "        self.discount = discount\n",
    "    @property\n",
    "    def selling_price(self):\n",
    "        return self.marked_price - self.discount/100\n",
    "    \n",
    "    def display(self):\n",
    "        print(self.id,  self.marked_price,  self.discount)\n",
    "\n",
    "p1 = Product('X879', 400, 6)\n",
    "p2 = Product('A234', 100, 5)\n",
    "p3 = Product('B987', 990, 4)\n",
    "p4 = Product('H456', 800, 6)\n",
    "\n",
    "print(p1.id,p1.selling_price)"
   ]
  },
  {
   "cell_type": "markdown",
   "metadata": {},
   "source": [
    "9. Suppose after some time, you want to give an additional 2% discount on a product, if its price is above 500. To incorporate this change, implement discount as a property in your Product class."
   ]
  },
  {
   "cell_type": "code",
   "execution_count": 28,
   "metadata": {},
   "outputs": [],
   "source": [
    "class Product():\n",
    "    def __init__(self, id, marked_price, discount):\n",
    "        self.id = id\n",
    "        self.marked_price = marked_price\n",
    "        self.discount = discount\n",
    "    @property\n",
    "    def selling_price(self):\n",
    "        return self.marked_price - self.discount/100\n",
    "    @property\n",
    "    def discount(self):\n",
    "        return self.discount+2 if self.marked_price > 500 else self.discount\n",
    "    \n",
    "    def display(self):\n",
    "        print(self.id,  self.marked_price,  self.discount)"
   ]
  },
  {
   "cell_type": "markdown",
   "metadata": {},
   "source": [
    "10. Write a Circle class with an instance variable named radius and a method named area. Create two more attributes named diameter and circumference and make them behave as read only attributes. \n",
    "\n",
    "Perform data validation on radius, user should not be allowed to assign a negative value to it.\n",
    "\n",
    "For a circle\n",
    "\n",
    "diameter =  2 * radius\n",
    "\n",
    "circumference =  2 * 3.14 * radius\n",
    "\n",
    "area =  3.14 * radius * radius"
   ]
  },
  {
   "cell_type": "code",
   "execution_count": 30,
   "metadata": {},
   "outputs": [],
   "source": [
    "class Circle():\n",
    "    def __init__(self, radius):\n",
    "        self._radius = radius\n",
    "\n",
    "    @property\n",
    "    def radius(self):\n",
    "        return self._radius\n",
    "\n",
    "    @radius.setter\n",
    "    def radius(self, new_radius):\n",
    "        if self.new_radius >=0:\n",
    "            self._radius = new_radius\n",
    "        else:\n",
    "            ValueError(\"Negative Radius not allowed\")\n",
    "\n",
    "    def area(self):\n",
    "        return 3.14*self._radius**2\n",
    "\n",
    "    @property\n",
    "    def diameter(self):\n",
    "        return 2*self._radius\n",
    "\n",
    "    @property\n",
    "    def circumference(self):\n",
    "        return 2*3.14*self._radius"
   ]
  },
  {
   "cell_type": "code",
   "execution_count": 31,
   "metadata": {},
   "outputs": [
    {
     "name": "stdout",
     "output_type": "stream",
     "text": [
      "7 14 43.96 153.86\n"
     ]
    }
   ],
   "source": [
    "c1 = Circle(7)\n",
    "print( c1.radius, c1.diameter, c1.circumference, c1.area() )"
   ]
  }
 ],
 "metadata": {
  "kernelspec": {
   "display_name": "Python 3 (ipykernel)",
   "language": "python",
   "name": "python3"
  },
  "language_info": {
   "codemirror_mode": {
    "name": "ipython",
    "version": 3
   },
   "file_extension": ".py",
   "mimetype": "text/x-python",
   "name": "python",
   "nbconvert_exporter": "python",
   "pygments_lexer": "ipython3",
   "version": "3.10.9"
  }
 },
 "nbformat": 4,
 "nbformat_minor": 4
}
