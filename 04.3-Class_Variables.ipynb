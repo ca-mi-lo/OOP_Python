{
 "cells": [
  {
   "cell_type": "code",
   "execution_count": null,
   "id": "1e360a4f-2758-4dd7-abcf-be545c6a644a",
   "metadata": {},
   "outputs": [],
   "source": []
  },
  {
   "cell_type": "code",
   "execution_count": 6,
   "id": "d9e7beb1",
   "metadata": {},
   "outputs": [
    {
     "name": "stdout",
     "output_type": "stream",
     "text": [
      "John is 20 years old Homo Sapiens\n",
      "Jack is 34 years old Homo Sapiens\n",
      "Homo Sapiens\n",
      "Homo Sapiens\n",
      "Homo Sapiens\n",
      "138448405468272\n",
      "138448405468272\n",
      "138448405468272\n",
      "The number of instances created are 2\n"
     ]
    }
   ],
   "source": [
    "class Person:\n",
    "    species = 'Homo Sapiens' # Class Variable\n",
    "    count = 0\n",
    "\n",
    "    def __init__(self,name,age):\n",
    "        self.name = name\n",
    "        self.age = age\n",
    "        # Wherever a new instance is created the counter gets +1\n",
    "        Person.count += 1\n",
    "    \n",
    "    def display(self):\n",
    "        print(f'{self.name} is {self.age} years old {Person.species}')\n",
    "\n",
    "p1 = Person('John', 20)\n",
    "p2 = Person('Jack', 34)\n",
    "\n",
    "\n",
    "p1.display()\n",
    "p2.display()\n",
    "print(Person.species)\n",
    "print(p1.species)\n",
    "print(p2.species)\n",
    "# Look, the same ID, hence, the same object\n",
    "print(id(Person.species))\n",
    "print(id(p1.species))\n",
    "print(id(p2.species))\n",
    "\n",
    "print(f'The number of instances created are {Person.count}')\n"
   ]
  },
  {
   "cell_type": "code",
   "execution_count": 14,
   "id": "37a0c15a",
   "metadata": {},
   "outputs": [
    {
     "data": {
      "text/plain": [
       "4"
      ]
     },
     "execution_count": 14,
     "metadata": {},
     "output_type": "execute_result"
    }
   ],
   "source": [
    "p3 = Person('Jill', 40)\n",
    "p4 = Person('Jane', 35)\n",
    "Person.count"
   ]
  },
  {
   "cell_type": "code",
   "execution_count": 7,
   "id": "c45a2fb9",
   "metadata": {},
   "outputs": [],
   "source": [
    "class BankAccount:\n",
    "    #class variables: use these variables for common attributes, \n",
    "    rate_of_interest = 5\n",
    "    minimum_balance = 100\n",
    "    minimum_balance_fees = 10\n",
    "\n",
    "    def __init__(self, name, balance=0):\n",
    "        self.name = name\n",
    "        self.balance = balance\n",
    " \n",
    "    def display(self):\n",
    "         print(self.name, self.balance)\n",
    " \n",
    "    def withdraw(self, amount):\n",
    "        self.balance -= amount\n",
    " \n",
    "    def deposit(self, amount):\n",
    "        self.balance += amount"
   ]
  },
  {
   "cell_type": "code",
   "execution_count": 9,
   "id": "d2605638",
   "metadata": {},
   "outputs": [
    {
     "name": "stdout",
     "output_type": "stream",
     "text": [
      "5\n",
      "100\n"
     ]
    }
   ],
   "source": [
    "class Book():\n",
    "    x = 5\n",
    "    def __init__(self):\n",
    "         self.x = 100\n",
    "     \n",
    "    def display(self):\n",
    "         print(self.x)\n",
    "\n",
    "b =Book()\n",
    "# this is how you access a class and an instance object\n",
    "print(Book.x) \n",
    "print(b.x)"
   ]
  },
  {
   "cell_type": "code",
   "execution_count": 26,
   "id": "3a0b3c6c",
   "metadata": {},
   "outputs": [
    {
     "name": "stdout",
     "output_type": "stream",
     "text": [
      "5 5 5\n",
      "6 7 6\n",
      "135391049744784 a1.rate=  135391049744816 135391049744784\n"
     ]
    }
   ],
   "source": [
    "class Account():\n",
    "    rate = 5\n",
    "\n",
    "a1 = Account()\n",
    "a2 = Account()\n",
    "\n",
    "print(Account.rate, a1.rate, a2.rate)\n",
    "Account.rate = 6\n",
    "a1.rate = 7\n",
    "\n",
    "print(Account.rate, a1.rate, a2.rate)\n",
    "print(id(Account.rate), 'a1.rate= ',id(a1.rate), id(a2.rate))\n"
   ]
  },
  {
   "cell_type": "markdown",
   "id": "b08b7cfc",
   "metadata": {},
   "source": [
    "So, if you want to affect all instances, update the class method, otherwise use the instance variable"
   ]
  },
  {
   "cell_type": "markdown",
   "id": "516bcc03",
   "metadata": {},
   "source": [
    "#### Class methods\n",
    "\n",
    "Note to myself: \n",
    "With @classmethod we can create a patterns to upload a big DataFrame `MyClass.A` and run whole methods dynamicly (plot) for each species (Item from the combo_box `cls.a[\"item\"]`)"
   ]
  },
  {
   "cell_type": "code",
   "execution_count": 2,
   "id": "bd47dbb0",
   "metadata": {},
   "outputs": [],
   "source": [
    "class MyClass():\n",
    "    a = 5\n",
    "    def __init__(self,x):\n",
    "        self._x = x\n",
    "    def method1(self):\n",
    "        print(self.x)\n",
    "    \n",
    "    @classmethod\n",
    "    def method2(cls):\n",
    "        print(cls.a)"
   ]
  },
  {
   "cell_type": "code",
   "execution_count": 3,
   "id": "2bb71ccf",
   "metadata": {},
   "outputs": [
    {
     "name": "stdout",
     "output_type": "stream",
     "text": [
      "5\n"
     ]
    }
   ],
   "source": [
    "MyClass.method2()"
   ]
  },
  {
   "cell_type": "code",
   "execution_count": null,
   "id": "c8bd3947",
   "metadata": {},
   "outputs": [],
   "source": [
    "class Person:\n",
    "    species = 'Homo Sapiens' # Class Variable\n",
    "    count = 0\n",
    "\n",
    "    def __init__(self,name,age):\n",
    "        self.name = name\n",
    "        self.age = age\n",
    "        # Wherever a new instance is created the counter gets +1\n",
    "        Person.count += 1\n",
    "    \n",
    "    def display(self):\n",
    "        print(f'{self.name} is {self.age} years old {Person.species}')\n",
    "\n",
    "p1 = Person('John', 20)\n",
    "p2 = Person('Jack', 34)"
   ]
  },
  {
   "cell_type": "markdown",
   "id": "28b10809",
   "metadata": {},
   "source": [
    "Now, a little black magic, `@classmethod` \n",
    "Now lets call a method from an other module, `_04_Employee.py`\n",
    "This means we can create class methods based on other modules and classes"
   ]
  },
  {
   "cell_type": "code",
   "execution_count": 3,
   "id": "bece40f4",
   "metadata": {},
   "outputs": [
    {
     "name": "stdout",
     "output_type": "stream",
     "text": [
      "Jim, is 23 years old\n",
      "Jane is 34 years old\n",
      "James Heltfield is 44 years old\n"
     ]
    }
   ],
   "source": [
    "from _04_Employee import Employee\n",
    "from datetime import datetime \n",
    "\n",
    "class Person:\n",
    "    \n",
    "    def __init__(self,name,age):\n",
    "        self.name = name\n",
    "        self.age = age\n",
    "    \n",
    "    def display(self):\n",
    "        print(f'{self.name} is {self.age} years old')\n",
    "\n",
    "    @classmethod\n",
    "    def from_str(cls,s):\n",
    "        name,age = s.split()\n",
    "        return cls(name, int(age))\n",
    "    \n",
    "    @classmethod\n",
    "    def from_dict(cls,d):\n",
    "        name,age = s.split()\n",
    "        return cls(d['name'], d['age'])\n",
    "    \n",
    "    @classmethod\n",
    "    def form_employee(cls, emp: Employee):\n",
    "        name = emp.first_name + ' ' + emp.last_name\n",
    "        age = datetime.today().year - emp.birth_year\n",
    "        return cls(name, age)\n",
    "    \n",
    "p1 = Person('John', 20)\n",
    "p2 = Person('Jack', 34)\n",
    "\n",
    "s = 'Jim, 23'\n",
    "p3 = Person.from_str(s)\n",
    "p3.display()\n",
    "\n",
    "d = {'name':'Jane', 'age':34}\n",
    "\n",
    "p4 = Person.from_dict(d)\n",
    "p4.display()\n",
    "\n",
    "e1 = Employee('James', 'Heltfield', 1980)\n",
    "p5 = Person.form_employee(e1)\n",
    "p5.display()"
   ]
  }
 ],
 "metadata": {
  "kernelspec": {
   "display_name": "Python 3 (ipykernel)",
   "language": "python",
   "name": "python3"
  },
  "language_info": {
   "codemirror_mode": {
    "name": "ipython",
    "version": 3
   },
   "file_extension": ".py",
   "mimetype": "text/x-python",
   "name": "python",
   "nbconvert_exporter": "python",
   "pygments_lexer": "ipython3",
   "version": "3.10.12"
  }
 },
 "nbformat": 4,
 "nbformat_minor": 5
}
