{
 "cells": [
  {
   "cell_type": "code",
   "execution_count": null,
   "id": "1e360a4f-2758-4dd7-abcf-be545c6a644a",
   "metadata": {},
   "outputs": [],
   "source": []
  },
  {
   "cell_type": "code",
   "execution_count": 13,
   "id": "d9e7beb1",
   "metadata": {},
   "outputs": [
    {
     "name": "stdout",
     "output_type": "stream",
     "text": [
      "John is 20 years old\n",
      "Jack is 34 years old\n",
      "Homo Sapiens\n",
      "Homo Sapiens\n",
      "Homo Sapiens\n",
      "135390581061872\n",
      "135390581061872\n",
      "135390581061872\n"
     ]
    }
   ],
   "source": [
    "class Person:\n",
    "    species = 'Homo Sapiens' # Class Variable\n",
    "    count = 0\n",
    "\n",
    "    def __init__(self,name,age):\n",
    "        self.name = name\n",
    "        self.age = age\n",
    "        Person.count += 1\n",
    "    \n",
    "    def display(self):\n",
    "        print(f'{self.name} is {self.age} years old')\n",
    "\n",
    "p1 = Person('John', 20)\n",
    "p2 = Person('Jack', 34)\n",
    "\n",
    "\n",
    "p1.display()\n",
    "p2.display()\n",
    "print(Person.species)\n",
    "print(p1.species)\n",
    "print(p2.species)\n",
    "\n",
    "print(id(Person.species))\n",
    "print(id(p1.species))\n",
    "print(id(p2.species))\n"
   ]
  },
  {
   "cell_type": "code",
   "execution_count": 14,
   "id": "37a0c15a",
   "metadata": {},
   "outputs": [
    {
     "data": {
      "text/plain": [
       "4"
      ]
     },
     "execution_count": 14,
     "metadata": {},
     "output_type": "execute_result"
    }
   ],
   "source": [
    "p3 = Person('Jill', 40)\n",
    "p4 = Person('Jane', 35)\n",
    "Person.count"
   ]
  },
  {
   "cell_type": "code",
   "execution_count": 17,
   "id": "c45a2fb9",
   "metadata": {},
   "outputs": [],
   "source": [
    "class BankAccount:\n",
    "    # use these variables for common attributes\n",
    "    rate_of_interest = 5\n",
    "    minimum_balance = 100\n",
    "    minimum_balance_fees = 10\n",
    "\n",
    "    def __init__(self, name, balance=0):\n",
    "        self.name = name\n",
    "        self.balance = balance\n",
    " \n",
    "    def display(self):\n",
    "         print(self.name, self.balance)\n",
    " \n",
    "    def withdraw(self, amount):\n",
    "        self.balance -= amount\n",
    " \n",
    "    def deposit(self, amount):\n",
    "        self.balance += amount"
   ]
  },
  {
   "cell_type": "code",
   "execution_count": 20,
   "id": "d2605638",
   "metadata": {},
   "outputs": [
    {
     "name": "stdout",
     "output_type": "stream",
     "text": [
      "5\n",
      "100\n"
     ]
    }
   ],
   "source": [
    "class Book():\n",
    "    x = 5\n",
    "    def __init__(self):\n",
    "         self.x = 100\n",
    "     \n",
    "    def display(self):\n",
    "         print(self.x)\n",
    "\n",
    "b =Book()\n",
    "print(Book.x) \n",
    "print(b.x)"
   ]
  },
  {
   "cell_type": "code",
   "execution_count": 26,
   "id": "3a0b3c6c",
   "metadata": {},
   "outputs": [
    {
     "name": "stdout",
     "output_type": "stream",
     "text": [
      "5 5 5\n",
      "6 7 6\n",
      "135391049744784 a1.rate=  135391049744816 135391049744784\n"
     ]
    }
   ],
   "source": [
    "class Account():\n",
    "    rate = 5\n",
    "\n",
    "a1 = Account()\n",
    "a2 = Account()\n",
    "\n",
    "print(Account.rate, a1.rate, a2.rate)\n",
    "Account.rate = 6\n",
    "a1.rate = 7\n",
    "\n",
    "print(Account.rate, a1.rate, a2.rate)\n",
    "print(id(Account.rate), 'a1.rate= ',id(a1.rate), id(a2.rate))\n"
   ]
  },
  {
   "cell_type": "markdown",
   "id": "b08b7cfc",
   "metadata": {},
   "source": [
    "So, if you want to affect all instances, update the class method, otherwise use the instance variable"
   ]
  }
 ],
 "metadata": {
  "kernelspec": {
   "display_name": "Python 3 (ipykernel)",
   "language": "python",
   "name": "python3"
  },
  "language_info": {
   "codemirror_mode": {
    "name": "ipython",
    "version": 3
   },
   "file_extension": ".py",
   "mimetype": "text/x-python",
   "name": "python",
   "nbconvert_exporter": "python",
   "pygments_lexer": "ipython3",
   "version": "3.10.12"
  }
 },
 "nbformat": 4,
 "nbformat_minor": 5
}
